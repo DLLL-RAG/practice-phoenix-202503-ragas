{
 "cells": [
  {
   "cell_type": "code",
   "execution_count": 1,
   "id": "fb268b7f-b3ee-46f3-a2c8-9d160cfe07c8",
   "metadata": {},
   "outputs": [
    {
     "name": "stdout",
     "output_type": "stream",
     "text": [
      "📤 Uploading dataset...\n",
      "💾 Examples uploaded: http://phoenix:6006/datasets/RGF0YXNldDox/examples\n",
      "🗄️ Dataset version ID: RGF0YXNldFZlcnNpb246MQ==\n"
     ]
    }
   ],
   "source": [
    "import pandas as pd\n",
    "import phoenix as px\n",
    "\n",
    "queries = [\n",
    "    \"How many hearts does an octopus have?\",\n",
    "    \"Do penguins live in the North Pole?\",\n",
    "    \"Can octopuses change color?\",\n",
    "    \"Can sharks get cancer?\",\n",
    "    \"Do elephants mourn their dead?\",\n",
    "]\n",
    "responses = [\n",
    "    \"An octopus has 3 hearts.\",\n",
    "    \"No, penguins live in the Southern Hemisphere, mostly around Antarctica.\",\n",
    "    \"Yes, octopuses can rapidly change color using specialized skin cells called chromatophores.\",\n",
    "    \"Yes, sharks can get cancer, despite the common myth that they are immune to it.\",\n",
    "    \"Yes, elephants have been observed showing mourning behaviors, such as touching and staying near the body.\",\n",
    "]\n",
    "\n",
    "dataset_df = pd.DataFrame(data={\"query\": queries, \"responses\": responses})\n",
    "\n",
    "client = px.Client(endpoint=\"http://phoenix:6006\")\n",
    "dataset = client.upload_dataset(\n",
    "    dataframe=dataset_df,\n",
    "    dataset_name=\"animals-questions\",\n",
    "    input_keys=[\"query\"],\n",
    "    output_keys=[\"responses\"],\n",
    ")\n"
   ]
  },
  {
   "cell_type": "code",
   "execution_count": null,
   "id": "abbdcbb8-b0ba-496d-a550-69dc6fc37f33",
   "metadata": {},
   "outputs": [],
   "source": []
  }
 ],
 "metadata": {
  "kernelspec": {
   "display_name": "Python 3 (ipykernel)",
   "language": "python",
   "name": "python3"
  },
  "language_info": {
   "codemirror_mode": {
    "name": "ipython",
    "version": 3
   },
   "file_extension": ".py",
   "mimetype": "text/x-python",
   "name": "python",
   "nbconvert_exporter": "python",
   "pygments_lexer": "ipython3",
   "version": "3.10.6"
  }
 },
 "nbformat": 4,
 "nbformat_minor": 5
}
