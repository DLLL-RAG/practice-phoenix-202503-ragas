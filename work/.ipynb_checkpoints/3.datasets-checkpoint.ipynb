{
 "cells": [
  {
   "cell_type": "code",
   "execution_count": 1,
   "id": "fb268b7f-b3ee-46f3-a2c8-9d160cfe07c8",
   "metadata": {},
   "outputs": [
    {
     "name": "stdout",
     "output_type": "stream",
     "text": [
      "📤 Uploading dataset...\n",
      "💾 Examples uploaded: http://phoenix:6006/datasets/RGF0YXNldDox/examples\n",
      "🗄️ Dataset version ID: RGF0YXNldFZlcnNpb246MQ==\n"
     ]
    }
   ],
   "source": [
    "import pandas as pd\n",
    "import phoenix as px\n",
    "\n",
    "queries = [\n",
    "    \"What are the 9 planets in the solar system?\",\n",
    "    \"How many generations of fundamental particles have we observed?\",\n",
    "    \"Is Aluminum a superconductor?\",\n",
    "]\n",
    "responses = [\n",
    "    \"There are 8 planets in the solar system.\",\n",
    "    \"We have observed 3 generations of fundamental particles.\",\n",
    "    \"Yes, Aluminum becomes a superconductor at 1.2 degrees Kelvin.\",\n",
    "]\n",
    "\n",
    "dataset_df = pd.DataFrame(data={\"query\": queries, \"responses\": responses})\n",
    "\n",
    "client = px.Client(endpoint=\"http://phoenix:6006\")\n",
    "dataset = client.upload_dataset(\n",
    "    dataframe=dataset_df,\n",
    "    dataset_name=\"physics-questions\",\n",
    "    input_keys=[\"query\"],\n",
    "    output_keys=[\"responses\"],\n",
    ")\n"
   ]
  }
 ],
 "metadata": {
  "kernelspec": {
   "display_name": "Python 3 (ipykernel)",
   "language": "python",
   "name": "python3"
  },
  "language_info": {
   "codemirror_mode": {
    "name": "ipython",
    "version": 3
   },
   "file_extension": ".py",
   "mimetype": "text/x-python",
   "name": "python",
   "nbconvert_exporter": "python",
   "pygments_lexer": "ipython3",
   "version": "3.10.6"
  }
 },
 "nbformat": 4,
 "nbformat_minor": 5
}
