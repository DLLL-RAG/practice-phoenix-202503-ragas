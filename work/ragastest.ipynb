{
 "cells": [
  {
   "cell_type": "code",
   "execution_count": 1,
   "id": "2f8ba4cb-5085-4702-924d-f07dd75b8b88",
   "metadata": {},
   "outputs": [
    {
     "name": "stdout",
     "output_type": "stream",
     "text": [
      "app-ADm11Ullpu99TuIQsKHMsiNf\n"
     ]
    }
   ],
   "source": [
    "import os\n",
    "print(os.getenv(\"OPENAI_API_KEY\"))"
   ]
  },
  {
   "cell_type": "code",
   "execution_count": 2,
   "id": "2fe05b8b-6b6b-4138-a0f5-51b1cf9e6898",
   "metadata": {
    "tags": []
   },
   "outputs": [
    {
     "name": "stdout",
     "output_type": "stream",
     "text": [
      "🔭 OpenTelemetry Tracing Details 🔭\n",
      "|  Phoenix Project: default\n",
      "|  Span Processor: SimpleSpanProcessor\n",
      "|  Collector Endpoint: http://phoenix:6006/v1/traces\n",
      "|  Transport: HTTP + protobuf\n",
      "|  Transport Headers: {}\n",
      "|  \n",
      "|  Using a default SpanProcessor. `add_span_processor` will overwrite this default.\n",
      "|  \n",
      "|  `register` has set this TracerProvider as the global OpenTelemetry default.\n",
      "|  To disable this behavior, call `register` with `set_global_tracer_provider=False`.\n",
      "\n"
     ]
    }
   ],
   "source": [
    "from phoenix.otel import register\n",
    "\n",
    "tracer_provider = register(\n",
    "  project_name=\"default\",\n",
    "  endpoint=\"http://phoenix:6006/v1/traces\",\n",
    "  # auto_instrument=True # Auto-instrument your app based on installed dependencie\n",
    ")"
   ]
  },
  {
   "cell_type": "code",
   "execution_count": 3,
   "id": "90135918-9818-4022-8d4d-4c540a232cff",
   "metadata": {},
   "outputs": [],
   "source": [
    "from openinference.instrumentation.openai import OpenAIInstrumentor\n",
    "\n",
    "OpenAIInstrumentor().instrument(tracer_provider=tracer_provider)"
   ]
  },
  {
   "cell_type": "code",
   "execution_count": 4,
   "id": "14731129-6779-4dae-aa61-4b72da298704",
   "metadata": {
    "tags": []
   },
   "outputs": [
    {
     "name": "stdout",
     "output_type": "stream",
     "text": [
      "Requirement already satisfied: scipy in /opt/conda/lib/python3.10/site-packages (1.15.2)\n",
      "Requirement already satisfied: numpy<2.5,>=1.23.5 in /opt/conda/lib/python3.10/site-packages (from scipy) (1.26.2)\n"
     ]
    }
   ],
   "source": [
    "!pip install --upgrade scipy"
   ]
  },
  {
   "cell_type": "code",
   "execution_count": 5,
   "id": "01e65916-5893-47a7-a199-d4989cd2bfd0",
   "metadata": {
    "tags": []
   },
   "outputs": [
    {
     "name": "stdout",
     "output_type": "stream",
     "text": [
      "Requirement already satisfied: numpy==1.26.2 in /opt/conda/lib/python3.10/site-packages (1.26.2)\n"
     ]
    }
   ],
   "source": [
    "!pip install numpy==1.26.2"
   ]
  },
  {
   "cell_type": "code",
   "execution_count": 6,
   "id": "6c2b0b1b-9260-4372-9df1-2e47d3b47280",
   "metadata": {
    "collapsed": true,
    "jupyter": {
     "outputs_hidden": true
    },
    "tags": []
   },
   "outputs": [
    {
     "name": "stdout",
     "output_type": "stream",
     "text": [
      "Requirement already satisfied: ragas==0.2.13 in /home/jovyan/.local/lib/python3.10/site-packages (0.2.13)\n",
      "Requirement already satisfied: pydantic>=2 in /opt/conda/lib/python3.10/site-packages (from ragas==0.2.13) (2.10.6)\n",
      "Requirement already satisfied: nest-asyncio in /home/jovyan/.local/lib/python3.10/site-packages (from ragas==0.2.13) (1.6.0)\n",
      "Requirement already satisfied: numpy in /opt/conda/lib/python3.10/site-packages (from ragas==0.2.13) (1.26.2)\n",
      "Requirement already satisfied: openai>1 in /home/jovyan/.local/lib/python3.10/site-packages (from ragas==0.2.13) (1.71.0)\n",
      "Requirement already satisfied: langchain-core in /home/jovyan/.local/lib/python3.10/site-packages (from ragas==0.2.13) (0.3.51)\n",
      "Requirement already satisfied: tiktoken in /opt/conda/lib/python3.10/site-packages (from ragas==0.2.13) (0.9.0)\n",
      "Requirement already satisfied: langchain in /home/jovyan/.local/lib/python3.10/site-packages (from ragas==0.2.13) (0.3.23)\n",
      "Requirement already satisfied: langchain_openai in /home/jovyan/.local/lib/python3.10/site-packages (from ragas==0.2.13) (0.3.12)\n",
      "Requirement already satisfied: appdirs in /home/jovyan/.local/lib/python3.10/site-packages (from ragas==0.2.13) (1.4.4)\n",
      "Requirement already satisfied: diskcache>=5.6.3 in /home/jovyan/.local/lib/python3.10/site-packages (from ragas==0.2.13) (5.6.3)\n",
      "Requirement already satisfied: langchain-community in /home/jovyan/.local/lib/python3.10/site-packages (from ragas==0.2.13) (0.3.21)\n",
      "Requirement already satisfied: datasets in /opt/conda/lib/python3.10/site-packages (from ragas==0.2.13) (3.3.2)\n",
      "Requirement already satisfied: sniffio in /opt/conda/lib/python3.10/site-packages (from openai>1->ragas==0.2.13) (1.3.0)\n",
      "Requirement already satisfied: jiter<1,>=0.4.0 in /opt/conda/lib/python3.10/site-packages (from openai>1->ragas==0.2.13) (0.9.0)\n",
      "Requirement already satisfied: httpx<1,>=0.23.0 in /opt/conda/lib/python3.10/site-packages (from openai>1->ragas==0.2.13) (0.27.2)\n",
      "Requirement already satisfied: anyio<5,>=3.5.0 in /opt/conda/lib/python3.10/site-packages (from openai>1->ragas==0.2.13) (4.8.0)\n",
      "Requirement already satisfied: typing-extensions<5,>=4.11 in /opt/conda/lib/python3.10/site-packages (from openai>1->ragas==0.2.13) (4.12.2)\n",
      "Requirement already satisfied: tqdm>4 in /opt/conda/lib/python3.10/site-packages (from openai>1->ragas==0.2.13) (4.67.1)\n",
      "Requirement already satisfied: distro<2,>=1.7.0 in /opt/conda/lib/python3.10/site-packages (from openai>1->ragas==0.2.13) (1.9.0)\n",
      "Requirement already satisfied: annotated-types>=0.6.0 in /opt/conda/lib/python3.10/site-packages (from pydantic>=2->ragas==0.2.13) (0.7.0)\n",
      "Requirement already satisfied: pydantic-core==2.27.2 in /opt/conda/lib/python3.10/site-packages (from pydantic>=2->ragas==0.2.13) (2.27.2)\n",
      "Requirement already satisfied: packaging in /home/jovyan/.local/lib/python3.10/site-packages (from datasets->ragas==0.2.13) (24.2)\n",
      "Requirement already satisfied: multiprocess<0.70.17 in /opt/conda/lib/python3.10/site-packages (from datasets->ragas==0.2.13) (0.70.16)\n",
      "Requirement already satisfied: aiohttp in /opt/conda/lib/python3.10/site-packages (from datasets->ragas==0.2.13) (3.11.13)\n",
      "Requirement already satisfied: pyyaml>=5.1 in /home/jovyan/.local/lib/python3.10/site-packages (from datasets->ragas==0.2.13) (6.0.2)\n",
      "Requirement already satisfied: filelock in /opt/conda/lib/python3.10/site-packages (from datasets->ragas==0.2.13) (3.17.0)\n",
      "Requirement already satisfied: pyarrow>=15.0.0 in /opt/conda/lib/python3.10/site-packages (from datasets->ragas==0.2.13) (19.0.1)\n",
      "Requirement already satisfied: pandas in /opt/conda/lib/python3.10/site-packages (from datasets->ragas==0.2.13) (1.5.0)\n",
      "Requirement already satisfied: dill<0.3.9,>=0.3.0 in /opt/conda/lib/python3.10/site-packages (from datasets->ragas==0.2.13) (0.3.8)\n",
      "Requirement already satisfied: huggingface-hub>=0.24.0 in /opt/conda/lib/python3.10/site-packages (from datasets->ragas==0.2.13) (0.29.2)\n",
      "Requirement already satisfied: requests>=2.32.2 in /opt/conda/lib/python3.10/site-packages (from datasets->ragas==0.2.13) (2.32.3)\n",
      "Requirement already satisfied: xxhash in /opt/conda/lib/python3.10/site-packages (from datasets->ragas==0.2.13) (3.5.0)\n",
      "Requirement already satisfied: fsspec[http]<=2024.12.0,>=2023.1.0 in /opt/conda/lib/python3.10/site-packages (from datasets->ragas==0.2.13) (2024.12.0)\n",
      "Requirement already satisfied: SQLAlchemy<3,>=1.4 in /opt/conda/lib/python3.10/site-packages (from langchain->ragas==0.2.13) (2.0.38)\n",
      "Requirement already satisfied: langsmith<0.4,>=0.1.17 in /home/jovyan/.local/lib/python3.10/site-packages (from langchain->ragas==0.2.13) (0.3.26)\n",
      "Requirement already satisfied: async-timeout<5.0.0,>=4.0.0 in /home/jovyan/.local/lib/python3.10/site-packages (from langchain->ragas==0.2.13) (4.0.3)\n",
      "Requirement already satisfied: langchain-text-splitters<1.0.0,>=0.3.8 in /home/jovyan/.local/lib/python3.10/site-packages (from langchain->ragas==0.2.13) (0.3.8)\n",
      "Requirement already satisfied: jsonpatch<2.0,>=1.33 in /home/jovyan/.local/lib/python3.10/site-packages (from langchain-core->ragas==0.2.13) (1.33)\n",
      "Requirement already satisfied: tenacity!=8.4.0,<10.0.0,>=8.1.0 in /home/jovyan/.local/lib/python3.10/site-packages (from langchain-core->ragas==0.2.13) (8.5.0)\n",
      "Requirement already satisfied: httpx-sse<1.0.0,>=0.4.0 in /home/jovyan/.local/lib/python3.10/site-packages (from langchain-community->ragas==0.2.13) (0.4.0)\n",
      "Requirement already satisfied: dataclasses-json<0.7,>=0.5.7 in /home/jovyan/.local/lib/python3.10/site-packages (from langchain-community->ragas==0.2.13) (0.6.7)\n",
      "Requirement already satisfied: pydantic-settings<3.0.0,>=2.4.0 in /home/jovyan/.local/lib/python3.10/site-packages (from langchain-community->ragas==0.2.13) (2.8.1)\n",
      "Requirement already satisfied: regex>=2022.1.18 in /opt/conda/lib/python3.10/site-packages (from tiktoken->ragas==0.2.13) (2024.11.6)\n",
      "Requirement already satisfied: aiohappyeyeballs>=2.3.0 in /opt/conda/lib/python3.10/site-packages (from aiohttp->datasets->ragas==0.2.13) (2.5.0)\n",
      "Requirement already satisfied: yarl<2.0,>=1.17.0 in /opt/conda/lib/python3.10/site-packages (from aiohttp->datasets->ragas==0.2.13) (1.18.3)\n",
      "Requirement already satisfied: aiosignal>=1.1.2 in /opt/conda/lib/python3.10/site-packages (from aiohttp->datasets->ragas==0.2.13) (1.3.2)\n",
      "Requirement already satisfied: attrs>=17.3.0 in /opt/conda/lib/python3.10/site-packages (from aiohttp->datasets->ragas==0.2.13) (22.1.0)\n",
      "Requirement already satisfied: multidict<7.0,>=4.5 in /opt/conda/lib/python3.10/site-packages (from aiohttp->datasets->ragas==0.2.13) (6.1.0)\n",
      "Requirement already satisfied: propcache>=0.2.0 in /opt/conda/lib/python3.10/site-packages (from aiohttp->datasets->ragas==0.2.13) (0.3.0)\n",
      "Requirement already satisfied: frozenlist>=1.1.1 in /opt/conda/lib/python3.10/site-packages (from aiohttp->datasets->ragas==0.2.13) (1.5.0)\n",
      "Requirement already satisfied: exceptiongroup>=1.0.2 in /opt/conda/lib/python3.10/site-packages (from anyio<5,>=3.5.0->openai>1->ragas==0.2.13) (1.2.2)\n",
      "Requirement already satisfied: idna>=2.8 in /opt/conda/lib/python3.10/site-packages (from anyio<5,>=3.5.0->openai>1->ragas==0.2.13) (3.4)\n",
      "Requirement already satisfied: marshmallow<4.0.0,>=3.18.0 in /home/jovyan/.local/lib/python3.10/site-packages (from dataclasses-json<0.7,>=0.5.7->langchain-community->ragas==0.2.13) (3.26.1)\n",
      "Requirement already satisfied: typing-inspect<1,>=0.4.0 in /home/jovyan/.local/lib/python3.10/site-packages (from dataclasses-json<0.7,>=0.5.7->langchain-community->ragas==0.2.13) (0.9.0)\n",
      "Requirement already satisfied: httpcore==1.* in /opt/conda/lib/python3.10/site-packages (from httpx<1,>=0.23.0->openai>1->ragas==0.2.13) (1.0.7)\n",
      "Requirement already satisfied: certifi in /home/jovyan/.local/lib/python3.10/site-packages (from httpx<1,>=0.23.0->openai>1->ragas==0.2.13) (2025.1.31)\n",
      "Requirement already satisfied: h11<0.15,>=0.13 in /opt/conda/lib/python3.10/site-packages (from httpcore==1.*->httpx<1,>=0.23.0->openai>1->ragas==0.2.13) (0.14.0)\n",
      "Requirement already satisfied: jsonpointer>=1.9 in /home/jovyan/.local/lib/python3.10/site-packages (from jsonpatch<2.0,>=1.33->langchain-core->ragas==0.2.13) (3.0.0)\n",
      "Requirement already satisfied: zstandard<0.24.0,>=0.23.0 in /home/jovyan/.local/lib/python3.10/site-packages (from langsmith<0.4,>=0.1.17->langchain->ragas==0.2.13) (0.23.0)\n",
      "Requirement already satisfied: requests-toolbelt<2.0.0,>=1.0.0 in /home/jovyan/.local/lib/python3.10/site-packages (from langsmith<0.4,>=0.1.17->langchain->ragas==0.2.13) (1.0.0)\n",
      "Requirement already satisfied: orjson<4.0.0,>=3.9.14 in /home/jovyan/.local/lib/python3.10/site-packages (from langsmith<0.4,>=0.1.17->langchain->ragas==0.2.13) (3.10.16)\n",
      "Requirement already satisfied: python-dotenv>=0.21.0 in /home/jovyan/.local/lib/python3.10/site-packages (from pydantic-settings<3.0.0,>=2.4.0->langchain-community->ragas==0.2.13) (1.1.0)\n",
      "Requirement already satisfied: charset-normalizer<4,>=2 in /opt/conda/lib/python3.10/site-packages (from requests>=2.32.2->datasets->ragas==0.2.13) (2.1.1)\n",
      "Requirement already satisfied: urllib3<3,>=1.21.1 in /opt/conda/lib/python3.10/site-packages (from requests>=2.32.2->datasets->ragas==0.2.13) (1.26.11)\n",
      "Requirement already satisfied: greenlet!=0.4.17 in /opt/conda/lib/python3.10/site-packages (from SQLAlchemy<3,>=1.4->langchain->ragas==0.2.13) (1.1.3)\n",
      "Requirement already satisfied: python-dateutil>=2.8.1 in /opt/conda/lib/python3.10/site-packages (from pandas->datasets->ragas==0.2.13) (2.8.2)\n",
      "Requirement already satisfied: pytz>=2020.1 in /opt/conda/lib/python3.10/site-packages (from pandas->datasets->ragas==0.2.13) (2022.4)\n",
      "Requirement already satisfied: six>=1.5 in /opt/conda/lib/python3.10/site-packages (from python-dateutil>=2.8.1->pandas->datasets->ragas==0.2.13) (1.16.0)\n",
      "Requirement already satisfied: mypy-extensions>=0.3.0 in /home/jovyan/.local/lib/python3.10/site-packages (from typing-inspect<1,>=0.4.0->dataclasses-json<0.7,>=0.5.7->langchain-community->ragas==0.2.13) (1.0.0)\n"
     ]
    }
   ],
   "source": [
    "!pip install --user ragas==0.2.13"
   ]
  },
  {
   "cell_type": "code",
   "execution_count": 7,
   "id": "d89d7275-e99f-4eab-8f28-4b3dc6ec48e0",
   "metadata": {
    "collapsed": true,
    "jupyter": {
     "outputs_hidden": true
    },
    "tags": []
   },
   "outputs": [
    {
     "name": "stdout",
     "output_type": "stream",
     "text": [
      "Requirement already satisfied: pypdf in /home/jovyan/.local/lib/python3.10/site-packages (4.3.1)\n",
      "Requirement already satisfied: arize-phoenix[embeddings,llama-index] in /opt/conda/lib/python3.10/site-packages (8.12.1)\n",
      "Requirement already satisfied: openai>=1.0.0 in /home/jovyan/.local/lib/python3.10/site-packages (1.71.0)\n",
      "Requirement already satisfied: pandas in /opt/conda/lib/python3.10/site-packages (1.5.0)\n",
      "Requirement already satisfied: httpx<0.28 in /opt/conda/lib/python3.10/site-packages (0.27.2)\n",
      "Requirement already satisfied: typing_extensions>=4.0 in /opt/conda/lib/python3.10/site-packages (from pypdf) (4.12.2)\n",
      "Requirement already satisfied: uvicorn in /opt/conda/lib/python3.10/site-packages (from arize-phoenix[embeddings,llama-index]) (0.34.0)\n",
      "Requirement already satisfied: starlette in /opt/conda/lib/python3.10/site-packages (from arize-phoenix[embeddings,llama-index]) (0.46.1)\n",
      "Requirement already satisfied: websockets in /opt/conda/lib/python3.10/site-packages (from arize-phoenix[embeddings,llama-index]) (15.0.1)\n",
      "Requirement already satisfied: fastapi in /opt/conda/lib/python3.10/site-packages (from arize-phoenix[embeddings,llama-index]) (0.115.11)\n",
      "Requirement already satisfied: aiosqlite in /opt/conda/lib/python3.10/site-packages (from arize-phoenix[embeddings,llama-index]) (0.21.0)\n",
      "Requirement already satisfied: sqlean-py>=3.45.1 in /opt/conda/lib/python3.10/site-packages (from arize-phoenix[embeddings,llama-index]) (3.47.0)\n",
      "Requirement already satisfied: opentelemetry-sdk in /opt/conda/lib/python3.10/site-packages (from arize-phoenix[embeddings,llama-index]) (1.30.0)\n",
      "Requirement already satisfied: wrapt>=1.17.2 in /opt/conda/lib/python3.10/site-packages (from arize-phoenix[embeddings,llama-index]) (1.17.2)\n",
      "Requirement already satisfied: python-multipart in /opt/conda/lib/python3.10/site-packages (from arize-phoenix[embeddings,llama-index]) (0.0.20)\n",
      "Requirement already satisfied: pydantic>=2.1.0 in /opt/conda/lib/python3.10/site-packages (from arize-phoenix[embeddings,llama-index]) (2.10.6)\n",
      "Requirement already satisfied: arize-phoenix-otel>=0.5.1 in /opt/conda/lib/python3.10/site-packages (from arize-phoenix[embeddings,llama-index]) (0.8.0)\n",
      "Requirement already satisfied: numpy!=2.0.0 in /opt/conda/lib/python3.10/site-packages (from arize-phoenix[embeddings,llama-index]) (1.26.2)\n",
      "Requirement already satisfied: opentelemetry-exporter-otlp in /opt/conda/lib/python3.10/site-packages (from arize-phoenix[embeddings,llama-index]) (1.30.0)\n",
      "Requirement already satisfied: opentelemetry-proto>=1.12.0 in /opt/conda/lib/python3.10/site-packages (from arize-phoenix[embeddings,llama-index]) (1.30.0)\n",
      "Requirement already satisfied: jinja2 in /opt/conda/lib/python3.10/site-packages (from arize-phoenix[embeddings,llama-index]) (3.1.2)\n",
      "Requirement already satisfied: sqlalchemy[asyncio]<3,>=2.0.4 in /opt/conda/lib/python3.10/site-packages (from arize-phoenix[embeddings,llama-index]) (2.0.38)\n",
      "Requirement already satisfied: opentelemetry-semantic-conventions in /opt/conda/lib/python3.10/site-packages (from arize-phoenix[embeddings,llama-index]) (0.51b0)\n",
      "Requirement already satisfied: arize-phoenix-evals>=0.13.1 in /opt/conda/lib/python3.10/site-packages (from arize-phoenix[embeddings,llama-index]) (0.20.3)\n",
      "Requirement already satisfied: authlib in /opt/conda/lib/python3.10/site-packages (from arize-phoenix[embeddings,llama-index]) (1.5.1)\n",
      "Requirement already satisfied: openinference-instrumentation>=0.1.12 in /opt/conda/lib/python3.10/site-packages (from arize-phoenix[embeddings,llama-index]) (0.1.23)\n",
      "Requirement already satisfied: scikit-learn in /home/jovyan/.local/lib/python3.10/site-packages (from arize-phoenix[embeddings,llama-index]) (1.6.1)\n",
      "Requirement already satisfied: tqdm in /opt/conda/lib/python3.10/site-packages (from arize-phoenix[embeddings,llama-index]) (4.67.1)\n",
      "Requirement already satisfied: protobuf<6.0,>=3.20.2 in /opt/conda/lib/python3.10/site-packages (from arize-phoenix[embeddings,llama-index]) (5.29.3)\n",
      "Requirement already satisfied: scipy in /opt/conda/lib/python3.10/site-packages (from arize-phoenix[embeddings,llama-index]) (1.15.2)\n",
      "Requirement already satisfied: cachetools in /opt/conda/lib/python3.10/site-packages (from arize-phoenix[embeddings,llama-index]) (5.5.2)\n",
      "Requirement already satisfied: grpcio in /opt/conda/lib/python3.10/site-packages (from arize-phoenix[embeddings,llama-index]) (1.71.0)\n",
      "Requirement already satisfied: alembic<2,>=1.3.0 in /opt/conda/lib/python3.10/site-packages (from arize-phoenix[embeddings,llama-index]) (1.8.1)\n",
      "Requirement already satisfied: strawberry-graphql>=0.262.0 in /opt/conda/lib/python3.10/site-packages (from arize-phoenix[embeddings,llama-index]) (0.262.1)\n",
      "Requirement already satisfied: pyarrow in /opt/conda/lib/python3.10/site-packages (from arize-phoenix[embeddings,llama-index]) (19.0.1)\n",
      "Requirement already satisfied: psutil in /opt/conda/lib/python3.10/site-packages (from arize-phoenix[embeddings,llama-index]) (5.9.2)\n",
      "Requirement already satisfied: openinference-semantic-conventions>=0.1.12 in /opt/conda/lib/python3.10/site-packages (from arize-phoenix[embeddings,llama-index]) (0.1.14)\n",
      "Requirement already satisfied: aioitertools in /opt/conda/lib/python3.10/site-packages (from arize-phoenix[embeddings,llama-index]) (0.12.0)\n",
      "Requirement already satisfied: arize-phoenix-client in /opt/conda/lib/python3.10/site-packages (from arize-phoenix[embeddings,llama-index]) (1.1.0)\n",
      "Requirement already satisfied: grpc-interceptor in /opt/conda/lib/python3.10/site-packages (from arize-phoenix[embeddings,llama-index]) (0.15.4)\n",
      "Requirement already satisfied: llama-index-embeddings-openai>=0.1.10 in /home/jovyan/.local/lib/python3.10/site-packages (from arize-phoenix[embeddings,llama-index]) (0.2.5)\n",
      "Requirement already satisfied: llama-index-agent-openai>=0.2.7 in /home/jovyan/.local/lib/python3.10/site-packages (from arize-phoenix[embeddings,llama-index]) (0.3.3)\n",
      "Requirement already satisfied: llama-index-llms-openai>=0.1.24 in /home/jovyan/.local/lib/python3.10/site-packages (from arize-phoenix[embeddings,llama-index]) (0.2.2)\n",
      "Requirement already satisfied: llama-index==0.11.0 in /home/jovyan/.local/lib/python3.10/site-packages (from arize-phoenix[embeddings,llama-index]) (0.11.0)\n",
      "Requirement already satisfied: llama-index-readers-file>=0.1.25 in /home/jovyan/.local/lib/python3.10/site-packages (from arize-phoenix[embeddings,llama-index]) (0.2.2)\n",
      "Requirement already satisfied: umap-learn in /home/jovyan/.local/lib/python3.10/site-packages (from arize-phoenix[embeddings,llama-index]) (0.5.7)\n",
      "Requirement already satisfied: numba>=0.60.0 in /home/jovyan/.local/lib/python3.10/site-packages (from arize-phoenix[embeddings,llama-index]) (0.61.0)\n",
      "Requirement already satisfied: fast-hdbscan>=0.2.0 in /home/jovyan/.local/lib/python3.10/site-packages (from arize-phoenix[embeddings,llama-index]) (0.2.2)\n",
      "Requirement already satisfied: llama-index-legacy<0.10.0,>=0.9.48 in /home/jovyan/.local/lib/python3.10/site-packages (from llama-index==0.11.0->arize-phoenix[embeddings,llama-index]) (0.9.48.post4)\n",
      "Requirement already satisfied: llama-index-readers-llama-parse>=0.2.0 in /home/jovyan/.local/lib/python3.10/site-packages (from llama-index==0.11.0->arize-phoenix[embeddings,llama-index]) (0.3.0)\n",
      "Requirement already satisfied: llama-index-cli<0.4.0,>=0.3.0 in /home/jovyan/.local/lib/python3.10/site-packages (from llama-index==0.11.0->arize-phoenix[embeddings,llama-index]) (0.3.1)\n",
      "Requirement already satisfied: llama-index-question-gen-openai<0.3.0,>=0.2.0 in /home/jovyan/.local/lib/python3.10/site-packages (from llama-index==0.11.0->arize-phoenix[embeddings,llama-index]) (0.2.0)\n",
      "Requirement already satisfied: llama-index-indices-managed-llama-cloud>=0.3.0 in /home/jovyan/.local/lib/python3.10/site-packages (from llama-index==0.11.0->arize-phoenix[embeddings,llama-index]) (0.3.1)\n",
      "Requirement already satisfied: llama-index-core==0.11.0.post1 in /home/jovyan/.local/lib/python3.10/site-packages (from llama-index==0.11.0->arize-phoenix[embeddings,llama-index]) (0.11.0.post1)\n",
      "Requirement already satisfied: llama-index-program-openai<0.3.0,>=0.2.0 in /home/jovyan/.local/lib/python3.10/site-packages (from llama-index==0.11.0->arize-phoenix[embeddings,llama-index]) (0.2.0)\n",
      "Requirement already satisfied: llama-index-multi-modal-llms-openai<0.3.0,>=0.2.0 in /home/jovyan/.local/lib/python3.10/site-packages (from llama-index==0.11.0->arize-phoenix[embeddings,llama-index]) (0.2.1)\n",
      "Requirement already satisfied: nltk>3.8.1 in /home/jovyan/.local/lib/python3.10/site-packages (from llama-index==0.11.0->arize-phoenix[embeddings,llama-index]) (3.9.1)\n",
      "Requirement already satisfied: typing-inspect>=0.8.0 in /home/jovyan/.local/lib/python3.10/site-packages (from llama-index-core==0.11.0.post1->llama-index==0.11.0->arize-phoenix[embeddings,llama-index]) (0.9.0)\n",
      "Requirement already satisfied: deprecated>=1.2.9.3 in /opt/conda/lib/python3.10/site-packages (from llama-index-core==0.11.0.post1->llama-index==0.11.0->arize-phoenix[embeddings,llama-index]) (1.2.18)\n",
      "Requirement already satisfied: aiohttp<4.0.0,>=3.8.6 in /opt/conda/lib/python3.10/site-packages (from llama-index-core==0.11.0.post1->llama-index==0.11.0->arize-phoenix[embeddings,llama-index]) (3.11.13)\n",
      "Requirement already satisfied: dirtyjson<2.0.0,>=1.0.8 in /home/jovyan/.local/lib/python3.10/site-packages (from llama-index-core==0.11.0.post1->llama-index==0.11.0->arize-phoenix[embeddings,llama-index]) (1.0.8)\n",
      "Requirement already satisfied: requests>=2.31.0 in /opt/conda/lib/python3.10/site-packages (from llama-index-core==0.11.0.post1->llama-index==0.11.0->arize-phoenix[embeddings,llama-index]) (2.32.3)\n",
      "Requirement already satisfied: networkx>=3.0 in /home/jovyan/.local/lib/python3.10/site-packages (from llama-index-core==0.11.0.post1->llama-index==0.11.0->arize-phoenix[embeddings,llama-index]) (3.4.2)\n",
      "Requirement already satisfied: pillow>=9.0.0 in /opt/conda/lib/python3.10/site-packages (from llama-index-core==0.11.0.post1->llama-index==0.11.0->arize-phoenix[embeddings,llama-index]) (9.2.0)\n",
      "Requirement already satisfied: tiktoken>=0.3.3 in /opt/conda/lib/python3.10/site-packages (from llama-index-core==0.11.0.post1->llama-index==0.11.0->arize-phoenix[embeddings,llama-index]) (0.9.0)\n",
      "Requirement already satisfied: tenacity!=8.4.0,<9.0.0,>=8.2.0 in /home/jovyan/.local/lib/python3.10/site-packages (from llama-index-core==0.11.0.post1->llama-index==0.11.0->arize-phoenix[embeddings,llama-index]) (8.5.0)\n",
      "Requirement already satisfied: dataclasses-json in /home/jovyan/.local/lib/python3.10/site-packages (from llama-index-core==0.11.0.post1->llama-index==0.11.0->arize-phoenix[embeddings,llama-index]) (0.6.7)\n",
      "Requirement already satisfied: PyYAML>=6.0.1 in /home/jovyan/.local/lib/python3.10/site-packages (from llama-index-core==0.11.0.post1->llama-index==0.11.0->arize-phoenix[embeddings,llama-index]) (6.0.2)\n",
      "Requirement already satisfied: fsspec>=2023.5.0 in /opt/conda/lib/python3.10/site-packages (from llama-index-core==0.11.0.post1->llama-index==0.11.0->arize-phoenix[embeddings,llama-index]) (2024.12.0)\n",
      "Requirement already satisfied: nest-asyncio<2.0.0,>=1.5.8 in /home/jovyan/.local/lib/python3.10/site-packages (from llama-index-core==0.11.0.post1->llama-index==0.11.0->arize-phoenix[embeddings,llama-index]) (1.6.0)\n",
      "Requirement already satisfied: jiter<1,>=0.4.0 in /opt/conda/lib/python3.10/site-packages (from openai>=1.0.0) (0.9.0)\n",
      "Requirement already satisfied: anyio<5,>=3.5.0 in /opt/conda/lib/python3.10/site-packages (from openai>=1.0.0) (4.8.0)\n",
      "Requirement already satisfied: sniffio in /opt/conda/lib/python3.10/site-packages (from openai>=1.0.0) (1.3.0)\n",
      "Requirement already satisfied: distro<2,>=1.7.0 in /opt/conda/lib/python3.10/site-packages (from openai>=1.0.0) (1.9.0)\n",
      "Requirement already satisfied: python-dateutil>=2.8.1 in /opt/conda/lib/python3.10/site-packages (from pandas) (2.8.2)\n",
      "Requirement already satisfied: pytz>=2020.1 in /opt/conda/lib/python3.10/site-packages (from pandas) (2022.4)\n",
      "Requirement already satisfied: httpcore==1.* in /opt/conda/lib/python3.10/site-packages (from httpx<0.28) (1.0.7)\n",
      "Requirement already satisfied: idna in /opt/conda/lib/python3.10/site-packages (from httpx<0.28) (3.4)\n",
      "Requirement already satisfied: certifi in /home/jovyan/.local/lib/python3.10/site-packages (from httpx<0.28) (2025.1.31)\n",
      "Requirement already satisfied: h11<0.15,>=0.13 in /opt/conda/lib/python3.10/site-packages (from httpcore==1.*->httpx<0.28) (0.14.0)\n",
      "Requirement already satisfied: Mako in /opt/conda/lib/python3.10/site-packages (from alembic<2,>=1.3.0->arize-phoenix[embeddings,llama-index]) (1.2.3)\n",
      "Requirement already satisfied: exceptiongroup>=1.0.2 in /opt/conda/lib/python3.10/site-packages (from anyio<5,>=3.5.0->openai>=1.0.0) (1.2.2)\n",
      "Requirement already satisfied: beautifulsoup4<5.0.0,>=4.12.3 in /home/jovyan/.local/lib/python3.10/site-packages (from llama-index-readers-file>=0.1.25->arize-phoenix[embeddings,llama-index]) (4.13.3)\n",
      "Requirement already satisfied: striprtf<0.0.27,>=0.0.26 in /home/jovyan/.local/lib/python3.10/site-packages (from llama-index-readers-file>=0.1.25->arize-phoenix[embeddings,llama-index]) (0.0.26)\n",
      "Requirement already satisfied: llvmlite<0.45,>=0.44.0dev0 in /home/jovyan/.local/lib/python3.10/site-packages (from numba>=0.60.0->arize-phoenix[embeddings,llama-index]) (0.44.0)\n",
      "Requirement already satisfied: opentelemetry-api in /opt/conda/lib/python3.10/site-packages (from openinference-instrumentation>=0.1.12->arize-phoenix[embeddings,llama-index]) (1.30.0)\n",
      "Requirement already satisfied: annotated-types>=0.6.0 in /opt/conda/lib/python3.10/site-packages (from pydantic>=2.1.0->arize-phoenix[embeddings,llama-index]) (0.7.0)\n",
      "Requirement already satisfied: pydantic-core==2.27.2 in /opt/conda/lib/python3.10/site-packages (from pydantic>=2.1.0->arize-phoenix[embeddings,llama-index]) (2.27.2)\n",
      "Requirement already satisfied: six>=1.5 in /opt/conda/lib/python3.10/site-packages (from python-dateutil>=2.8.1->pandas) (1.16.0)\n",
      "Requirement already satisfied: joblib>=1.2.0 in /opt/conda/lib/python3.10/site-packages (from scikit-learn->arize-phoenix[embeddings,llama-index]) (1.2.0)\n",
      "Requirement already satisfied: threadpoolctl>=3.1.0 in /opt/conda/lib/python3.10/site-packages (from scikit-learn->arize-phoenix[embeddings,llama-index]) (3.1.0)\n",
      "Requirement already satisfied: greenlet!=0.4.17 in /opt/conda/lib/python3.10/site-packages (from sqlalchemy[asyncio]<3,>=2.0.4->arize-phoenix[embeddings,llama-index]) (1.1.3)\n",
      "Requirement already satisfied: graphql-core<3.4.0,>=3.2.0 in /opt/conda/lib/python3.10/site-packages (from strawberry-graphql>=0.262.0->arize-phoenix[embeddings,llama-index]) (3.2.6)\n",
      "Requirement already satisfied: cryptography in /opt/conda/lib/python3.10/site-packages (from authlib->arize-phoenix[embeddings,llama-index]) (38.0.1)\n",
      "Requirement already satisfied: MarkupSafe>=2.0 in /opt/conda/lib/python3.10/site-packages (from jinja2->arize-phoenix[embeddings,llama-index]) (2.1.1)\n",
      "Requirement already satisfied: opentelemetry-exporter-otlp-proto-grpc==1.30.0 in /opt/conda/lib/python3.10/site-packages (from opentelemetry-exporter-otlp->arize-phoenix[embeddings,llama-index]) (1.30.0)\n",
      "Requirement already satisfied: opentelemetry-exporter-otlp-proto-http==1.30.0 in /opt/conda/lib/python3.10/site-packages (from opentelemetry-exporter-otlp->arize-phoenix[embeddings,llama-index]) (1.30.0)\n",
      "Requirement already satisfied: googleapis-common-protos~=1.52 in /opt/conda/lib/python3.10/site-packages (from opentelemetry-exporter-otlp-proto-grpc==1.30.0->opentelemetry-exporter-otlp->arize-phoenix[embeddings,llama-index]) (1.69.1)\n",
      "Requirement already satisfied: opentelemetry-exporter-otlp-proto-common==1.30.0 in /opt/conda/lib/python3.10/site-packages (from opentelemetry-exporter-otlp-proto-grpc==1.30.0->opentelemetry-exporter-otlp->arize-phoenix[embeddings,llama-index]) (1.30.0)\n",
      "Requirement already satisfied: importlib-metadata<=8.5.0,>=6.0 in /opt/conda/lib/python3.10/site-packages (from opentelemetry-api->openinference-instrumentation>=0.1.12->arize-phoenix[embeddings,llama-index]) (8.5.0)\n",
      "Requirement already satisfied: pynndescent>=0.5 in /home/jovyan/.local/lib/python3.10/site-packages (from umap-learn->arize-phoenix[embeddings,llama-index]) (0.5.13)\n",
      "Requirement already satisfied: click>=7.0 in /home/jovyan/.local/lib/python3.10/site-packages (from uvicorn->arize-phoenix[embeddings,llama-index]) (8.1.8)\n",
      "Requirement already satisfied: soupsieve>1.2 in /opt/conda/lib/python3.10/site-packages (from beautifulsoup4<5.0.0,>=4.12.3->llama-index-readers-file>=0.1.25->arize-phoenix[embeddings,llama-index]) (2.3.2.post1)\n",
      "Requirement already satisfied: llama-cloud>=0.0.11 in /home/jovyan/.local/lib/python3.10/site-packages (from llama-index-indices-managed-llama-cloud>=0.3.0->llama-index==0.11.0->arize-phoenix[embeddings,llama-index]) (0.1.17)\n",
      "Requirement already satisfied: llama-parse>=0.5.0 in /home/jovyan/.local/lib/python3.10/site-packages (from llama-index-readers-llama-parse>=0.2.0->llama-index==0.11.0->arize-phoenix[embeddings,llama-index]) (0.6.4.post1)\n",
      "Requirement already satisfied: regex>=2021.8.3 in /opt/conda/lib/python3.10/site-packages (from nltk>3.8.1->llama-index==0.11.0->arize-phoenix[embeddings,llama-index]) (2024.11.6)\n",
      "Requirement already satisfied: cffi>=1.12 in /opt/conda/lib/python3.10/site-packages (from cryptography->authlib->arize-phoenix[embeddings,llama-index]) (1.15.1)\n",
      "Requirement already satisfied: multidict<7.0,>=4.5 in /opt/conda/lib/python3.10/site-packages (from aiohttp<4.0.0,>=3.8.6->llama-index-core==0.11.0.post1->llama-index==0.11.0->arize-phoenix[embeddings,llama-index]) (6.1.0)\n",
      "Requirement already satisfied: propcache>=0.2.0 in /opt/conda/lib/python3.10/site-packages (from aiohttp<4.0.0,>=3.8.6->llama-index-core==0.11.0.post1->llama-index==0.11.0->arize-phoenix[embeddings,llama-index]) (0.3.0)\n",
      "Requirement already satisfied: aiosignal>=1.1.2 in /opt/conda/lib/python3.10/site-packages (from aiohttp<4.0.0,>=3.8.6->llama-index-core==0.11.0.post1->llama-index==0.11.0->arize-phoenix[embeddings,llama-index]) (1.3.2)\n",
      "Requirement already satisfied: frozenlist>=1.1.1 in /opt/conda/lib/python3.10/site-packages (from aiohttp<4.0.0,>=3.8.6->llama-index-core==0.11.0.post1->llama-index==0.11.0->arize-phoenix[embeddings,llama-index]) (1.5.0)\n",
      "Requirement already satisfied: async-timeout<6.0,>=4.0 in /home/jovyan/.local/lib/python3.10/site-packages (from aiohttp<4.0.0,>=3.8.6->llama-index-core==0.11.0.post1->llama-index==0.11.0->arize-phoenix[embeddings,llama-index]) (4.0.3)\n",
      "Requirement already satisfied: yarl<2.0,>=1.17.0 in /opt/conda/lib/python3.10/site-packages (from aiohttp<4.0.0,>=3.8.6->llama-index-core==0.11.0.post1->llama-index==0.11.0->arize-phoenix[embeddings,llama-index]) (1.18.3)\n",
      "Requirement already satisfied: aiohappyeyeballs>=2.3.0 in /opt/conda/lib/python3.10/site-packages (from aiohttp<4.0.0,>=3.8.6->llama-index-core==0.11.0.post1->llama-index==0.11.0->arize-phoenix[embeddings,llama-index]) (2.5.0)\n",
      "Requirement already satisfied: attrs>=17.3.0 in /opt/conda/lib/python3.10/site-packages (from aiohttp<4.0.0,>=3.8.6->llama-index-core==0.11.0.post1->llama-index==0.11.0->arize-phoenix[embeddings,llama-index]) (22.1.0)\n",
      "Requirement already satisfied: pycparser in /opt/conda/lib/python3.10/site-packages (from cffi>=1.12->cryptography->authlib->arize-phoenix[embeddings,llama-index]) (2.21)\n",
      "Requirement already satisfied: zipp>=3.20 in /opt/conda/lib/python3.10/site-packages (from importlib-metadata<=8.5.0,>=6.0->opentelemetry-api->openinference-instrumentation>=0.1.12->arize-phoenix[embeddings,llama-index]) (3.21.0)\n",
      "Requirement already satisfied: llama-cloud-services>=0.6.4 in /home/jovyan/.local/lib/python3.10/site-packages (from llama-parse>=0.5.0->llama-index-readers-llama-parse>=0.2.0->llama-index==0.11.0->arize-phoenix[embeddings,llama-index]) (0.6.9)\n",
      "Requirement already satisfied: charset-normalizer<4,>=2 in /opt/conda/lib/python3.10/site-packages (from requests>=2.31.0->llama-index-core==0.11.0.post1->llama-index==0.11.0->arize-phoenix[embeddings,llama-index]) (2.1.1)\n",
      "Requirement already satisfied: urllib3<3,>=1.21.1 in /opt/conda/lib/python3.10/site-packages (from requests>=2.31.0->llama-index-core==0.11.0.post1->llama-index==0.11.0->arize-phoenix[embeddings,llama-index]) (1.26.11)\n",
      "Requirement already satisfied: mypy-extensions>=0.3.0 in /home/jovyan/.local/lib/python3.10/site-packages (from typing-inspect>=0.8.0->llama-index-core==0.11.0.post1->llama-index==0.11.0->arize-phoenix[embeddings,llama-index]) (1.0.0)\n",
      "Requirement already satisfied: marshmallow<4.0.0,>=3.18.0 in /home/jovyan/.local/lib/python3.10/site-packages (from dataclasses-json->llama-index-core==0.11.0.post1->llama-index==0.11.0->arize-phoenix[embeddings,llama-index]) (3.26.1)\n",
      "Requirement already satisfied: python-dotenv<2.0.0,>=1.0.1 in /home/jovyan/.local/lib/python3.10/site-packages (from llama-cloud-services>=0.6.4->llama-parse>=0.5.0->llama-index-readers-llama-parse>=0.2.0->llama-index==0.11.0->arize-phoenix[embeddings,llama-index]) (1.1.0)\n",
      "Requirement already satisfied: platformdirs<5.0.0,>=4.3.7 in /home/jovyan/.local/lib/python3.10/site-packages (from llama-cloud-services>=0.6.4->llama-parse>=0.5.0->llama-index-readers-llama-parse>=0.2.0->llama-index==0.11.0->arize-phoenix[embeddings,llama-index]) (4.3.7)\n",
      "Requirement already satisfied: packaging>=17.0 in /home/jovyan/.local/lib/python3.10/site-packages (from marshmallow<4.0.0,>=3.18.0->dataclasses-json->llama-index-core==0.11.0.post1->llama-index==0.11.0->arize-phoenix[embeddings,llama-index]) (24.2)\n"
     ]
    }
   ],
   "source": [
    "!pip install --user pypdf \"arize-phoenix[llama-index,embeddings]\" \"openai>=1.0.0\" pandas 'httpx<0.28'"
   ]
  },
  {
   "cell_type": "code",
   "execution_count": 8,
   "id": "c8dcc215-69e7-4b19-be5f-ceba74ff4741",
   "metadata": {},
   "outputs": [],
   "source": [
    "import pandas as pd\n",
    "\n",
    "# Display the complete contents of dataframe cells.\n",
    "pd.set_option(\"display.max_colwidth\", None)"
   ]
  },
  {
   "cell_type": "code",
   "execution_count": 9,
   "id": "d1c6d26d-bc2b-4803-8dc6-5eb4f65c9bcc",
   "metadata": {},
   "outputs": [],
   "source": [
    "import os\n",
    "from getpass import getpass\n",
    "\n",
    "if not (openai_api_key := os.getenv(\"OPENAI_API_KEY\")):\n",
    "    openai_api_key = getpass(\"🔑 Enter your OpenAI API key: \")\n",
    "os.environ[\"OPENAI_API_KEY\"] = openai_api_key"
   ]
  },
  {
   "cell_type": "code",
   "execution_count": 10,
   "id": "b7738764-6e4c-495f-899f-11a6928bbeca",
   "metadata": {},
   "outputs": [
    {
     "name": "stdout",
     "output_type": "stream",
     "text": [
      "172.21.0.3\n"
     ]
    }
   ],
   "source": [
    "import socket\n",
    "print(socket.gethostbyname(socket.gethostname()))"
   ]
  },
  {
   "cell_type": "code",
   "execution_count": 11,
   "id": "75e8b8d6-032c-4af2-9758-fb8aad583837",
   "metadata": {},
   "outputs": [
    {
     "name": "stdout",
     "output_type": "stream",
     "text": [
      "❗️ The launch_app `port` parameter is deprecated and will be removed in a future release. Use the `PHOENIX_PORT` environment variable instead.\n",
      "❗️ The launch_app `host` parameter is deprecated and will be removed in a future release. Use the `PHOENIX_HOST` environment variable instead.\n",
      "🌍 To view the Phoenix app in your browser, visit http://localhost:6006/\n",
      "📖 For more information on how to use Phoenix, check out https://docs.arize.com/phoenix\n",
      "📺 Opening a view to the Phoenix app. The app is running at http://localhost:6006/\n"
     ]
    },
    {
     "data": {
      "text/html": [
       "\n",
       "        <iframe\n",
       "            width=\"100%\"\n",
       "            height=\"1000\"\n",
       "            src=\"http://localhost:6006/\"\n",
       "            frameborder=\"0\"\n",
       "            allowfullscreen\n",
       "            \n",
       "        ></iframe>\n",
       "        "
      ],
      "text/plain": [
       "<IPython.lib.display.IFrame at 0x7f09d5491ba0>"
      ]
     },
     "execution_count": 11,
     "metadata": {},
     "output_type": "execute_result"
    }
   ],
   "source": [
    "import phoenix as px\n",
    "session = px.launch_app(host=\"0.0.0.0\", port=6006)\n",
    "session.view()"
   ]
  },
  {
   "cell_type": "code",
   "execution_count": 12,
   "id": "2cc27485-71e5-4c3a-807b-bd969d7acc19",
   "metadata": {},
   "outputs": [
    {
     "name": "stderr",
     "output_type": "stream",
     "text": [
      "Existing running Phoenix instance detected! Shutting it down and starting a new instance...\n"
     ]
    },
    {
     "name": "stdout",
     "output_type": "stream",
     "text": [
      "❗️ The launch_app `port` parameter is deprecated and will be removed in a future release. Use the `PHOENIX_PORT` environment variable instead.\n",
      "❗️ The launch_app `host` parameter is deprecated and will be removed in a future release. Use the `PHOENIX_HOST` environment variable instead.\n",
      "🌍 To view the Phoenix app in your browser, visit http://172.21.0.3:6006/\n",
      "📖 For more information on how to use Phoenix, check out https://docs.arize.com/phoenix\n",
      "📺 Opening a view to the Phoenix app. The app is running at http://172.21.0.3:6006/\n"
     ]
    },
    {
     "data": {
      "text/html": [
       "\n",
       "        <iframe\n",
       "            width=\"100%\"\n",
       "            height=\"1000\"\n",
       "            src=\"http://172.21.0.3:6006/\"\n",
       "            frameborder=\"0\"\n",
       "            allowfullscreen\n",
       "            \n",
       "        ></iframe>\n",
       "        "
      ],
      "text/plain": [
       "<IPython.lib.display.IFrame at 0x7f0a6b865b40>"
      ]
     },
     "execution_count": 12,
     "metadata": {},
     "output_type": "execute_result"
    }
   ],
   "source": [
    "import phoenix as px\n",
    "\n",
    "session = px.launch_app(host=\"172.21.0.3\", port=6006)\n",
    "session.view()"
   ]
  },
  {
   "cell_type": "code",
   "execution_count": null,
   "id": "27220a73-3086-4c97-bb3a-b2382d765613",
   "metadata": {},
   "outputs": [],
   "source": []
  },
  {
   "cell_type": "code",
   "execution_count": null,
   "id": "795140f2-333d-41b5-91ba-ac1faa1d828c",
   "metadata": {},
   "outputs": [],
   "source": []
  }
 ],
 "metadata": {
  "kernelspec": {
   "display_name": "Python 3 (ipykernel)",
   "language": "python",
   "name": "python3"
  },
  "language_info": {
   "codemirror_mode": {
    "name": "ipython",
    "version": 3
   },
   "file_extension": ".py",
   "mimetype": "text/x-python",
   "name": "python",
   "nbconvert_exporter": "python",
   "pygments_lexer": "ipython3",
   "version": "3.10.6"
  }
 },
 "nbformat": 4,
 "nbformat_minor": 5
}
